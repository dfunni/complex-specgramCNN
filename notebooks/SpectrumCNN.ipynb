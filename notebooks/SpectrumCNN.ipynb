{
 "cells": [
  {
   "cell_type": "markdown",
   "metadata": {},
   "source": [
    "# Spectrum CNN\n",
    "\n",
    "Automatic modulation recognition with CNN using spectrogram data based on technique from Zeng et al's paper \"Spectrum Analysis and Convolutiopnal Neural Netowrk for Automatic Modulation Recognition\" published in IEEE Wireless Communications Letters, Vol 8, No 3, of June 2019.\n",
    "\n",
    "This example deviates from Zeng et al's in tje following ways:\n",
    "\n",
    "- Spectrogram data (CNN input) is provided as a 2D (time and freqnency) array of intensity values as apposed to a 3D (time, frequency, and three color channels) array. This allows Conv2D layers to be used vs Conv3D. This change reduces the number of learned parameters from 199k to 172k.\n",
    "\n",
    "\n",
    "- The dataset combines spectrograms from multiple SNRs (0 to 18 dB) vs only using a single SNR per model. This is inteded to make the trained model more robust to noise by 1) providing more training data, and 2) providing a wider variety of data due to various ammounts of noise present."
   ]
  },
  {
   "cell_type": "code",
   "execution_count": 56,
   "metadata": {},
   "outputs": [],
   "source": [
    "import sys\n",
    "sys.path.append(\"../modules\")\n",
    "\n",
    "import tensorflow as tf\n",
    "import tensorflow.keras as K\n",
    "import numpy as np\n",
    "import matplotlib.pyplot as plt\n",
    "import pickle\n",
    "\n",
    "from tensorflow.keras.models import Sequential\n",
    "from tensorflow.keras.layers import Conv2D, MaxPooling2D, Flatten, Dense\n",
    "from tensorflow.keras.layers import BatchNormalization, Dropout, Activation\n",
    "\n",
    "\n",
    "import utilities as ut\n",
    "import preprocess\n",
    "import visualize as viz\n",
    "\n",
    "%matplotlib inline\n",
    "plt.rcParams['figure.figsize'] = [10, 5]"
   ]
  },
  {
   "cell_type": "markdown",
   "metadata": {},
   "source": [
    "The following cell can be run to reload the iq_utils modlue after editing during notebook testing"
   ]
  },
  {
   "cell_type": "code",
   "execution_count": 74,
   "metadata": {},
   "outputs": [
    {
     "data": {
      "text/plain": [
       "<module 'visualize' from '../modules/visualize.py'>"
      ]
     },
     "execution_count": 74,
     "metadata": {},
     "output_type": "execute_result"
    }
   ],
   "source": [
    "from importlib import reload\n",
    "reload(ut)\n",
    "reload(preprocess)\n",
    "reload(viz)"
   ]
  },
  {
   "cell_type": "markdown",
   "metadata": {},
   "source": [
    "# Get dataset"
   ]
  },
  {
   "cell_type": "markdown",
   "metadata": {},
   "source": [
    "## Option 1: Load dataset"
   ]
  },
  {
   "cell_type": "code",
   "execution_count": 19,
   "metadata": {},
   "outputs": [],
   "source": [
    "spec_dict = ut.from_pickle('../processed_data/spectrogram_dict_MPh')"
   ]
  },
  {
   "cell_type": "markdown",
   "metadata": {},
   "source": [
    "## Option 2: Generate Dataset"
   ]
  },
  {
   "cell_type": "code",
   "execution_count": 3,
   "metadata": {},
   "outputs": [],
   "source": [
    "filename = \"../datasets/RML2016_10a_dict.pkl\"\n",
    "raw_data = ut.load_dataset(filename)\n",
    "# _, snrs = ut.get_mods_and_snrs(raw_data)\n",
    "\n",
    "snrs = [10, 12, 14, 16, 18]\n",
    "\n",
    "data_dict = preprocess.select_SNRs(raw_data, snrs)\n",
    "\n",
    "n_ex = data_dict['x'].shape[0]"
   ]
  },
  {
   "cell_type": "code",
   "execution_count": 4,
   "metadata": {},
   "outputs": [
    {
     "data": {
      "text/plain": [
       "(55000, 128)"
      ]
     },
     "execution_count": 4,
     "metadata": {},
     "output_type": "execute_result"
    }
   ],
   "source": [
    "data_dict['x'].shape"
   ]
  },
  {
   "cell_type": "code",
   "execution_count": 5,
   "metadata": {},
   "outputs": [
    {
     "name": "stdout",
     "output_type": "stream",
     "text": [
      "There are 55000 examples in dataset.\n",
      "Each example is a complex vector of length of 128.\n",
      "There were 5 SNRs used.\n"
     ]
    }
   ],
   "source": [
    "print('There are {} examples in dataset.'.format(data_dict['x'].shape[0]))\n",
    "print('Each example is a complex vector of length of {}.'.format(data_dict['x'].shape[1]))\n",
    "print('There were {} SNRs used.'.format(len(snrs)))"
   ]
  },
  {
   "cell_type": "code",
   "execution_count": 66,
   "metadata": {},
   "outputs": [],
   "source": [
    "spec_dict = preprocess.process_spec(data_dict, nperseg=29, noverlap=28, n_ex=None, nfft=100, \n",
    "                            inph=0, quad=0, mag=1, ph=0, ph_unwrap=1)"
   ]
  },
  {
   "cell_type": "code",
   "execution_count": 67,
   "metadata": {},
   "outputs": [
    {
     "name": "stdout",
     "output_type": "stream",
     "text": [
      "There are 55000 examples in dataset.\n",
      "Spectrograms are of shape:  (100, 100, 2)\n"
     ]
    }
   ],
   "source": [
    "print('There are {} examples in dataset.'.format(spec_dict['x_s'].shape[0]))\n",
    "print('Spectrograms are of shape: ', spec_dict['x_s'].shape[1:])"
   ]
  },
  {
   "cell_type": "markdown",
   "metadata": {},
   "source": [
    "## Train/test split"
   ]
  },
  {
   "cell_type": "code",
   "execution_count": 68,
   "metadata": {},
   "outputs": [],
   "source": [
    "X_train, y_train, X_test, y_test = preprocess.process_data(spec_dict, test_split=0.0, blur=False)"
   ]
  },
  {
   "cell_type": "code",
   "execution_count": 69,
   "metadata": {},
   "outputs": [
    {
     "name": "stdout",
     "output_type": "stream",
     "text": [
      "There are 55000 samples in the trianing set and 55000 in the testing set\n"
     ]
    }
   ],
   "source": [
    "print('There are {} samples in the trianing set and {} in the testing set'.format(X_train.shape[0], X_train.shape[0]))"
   ]
  },
  {
   "cell_type": "markdown",
   "metadata": {},
   "source": [
    "## Build model"
   ]
  },
  {
   "cell_type": "code",
   "execution_count": 70,
   "metadata": {},
   "outputs": [],
   "source": [
    "model = Sequential()\n",
    "\n",
    "model.add(Conv2D(64, kernel_size=(3,3), activation='relu', input_shape=X_train.shape[1:], padding='same'))\n",
    "model.add(BatchNormalization(axis=-1))\n",
    "model.add(MaxPooling2D(pool_size=(2,2)))\n",
    "model.add(Dropout(0.25))\n",
    "\n",
    "model.add(Conv2D(32, kernel_size=(3,3), activation='relu', padding='same'))\n",
    "model.add(BatchNormalization(axis=-1))\n",
    "model.add(MaxPooling2D(pool_size=(2,2)))\n",
    "model.add(Dropout(0.25))\n",
    "\n",
    "model.add(Conv2D(12, kernel_size=(3,3), activation='relu', padding='same'))\n",
    "model.add(BatchNormalization(axis=-1))\n",
    "model.add(MaxPooling2D(pool_size=(2,2)))\n",
    "model.add(Dropout(0.25))\n",
    "\n",
    "model.add(Conv2D(8, kernel_size=(3,3), activation='relu', padding='same'))\n",
    "model.add(BatchNormalization(axis=-1))\n",
    "model.add(Dropout(0.25))\n",
    "\n",
    "model.add(Flatten())\n",
    "model.add(Dense(128, activation='relu'))\n",
    "model.add(Dense(11, activation='softmax'))\n",
    "\n",
    "model.compile(loss='sparse_categorical_crossentropy',\n",
    "              optimizer='adam',\n",
    "              metrics=['accuracy'])"
   ]
  },
  {
   "cell_type": "code",
   "execution_count": 71,
   "metadata": {},
   "outputs": [
    {
     "name": "stdout",
     "output_type": "stream",
     "text": [
      "Model: \"sequential_3\"\n",
      "_________________________________________________________________\n",
      "Layer (type)                 Output Shape              Param #   \n",
      "=================================================================\n",
      "conv2d_12 (Conv2D)           (None, 100, 100, 64)      1216      \n",
      "_________________________________________________________________\n",
      "batch_normalization_12 (Batc (None, 100, 100, 64)      256       \n",
      "_________________________________________________________________\n",
      "max_pooling2d_9 (MaxPooling2 (None, 50, 50, 64)        0         \n",
      "_________________________________________________________________\n",
      "dropout_12 (Dropout)         (None, 50, 50, 64)        0         \n",
      "_________________________________________________________________\n",
      "conv2d_13 (Conv2D)           (None, 50, 50, 32)        18464     \n",
      "_________________________________________________________________\n",
      "batch_normalization_13 (Batc (None, 50, 50, 32)        128       \n",
      "_________________________________________________________________\n",
      "max_pooling2d_10 (MaxPooling (None, 25, 25, 32)        0         \n",
      "_________________________________________________________________\n",
      "dropout_13 (Dropout)         (None, 25, 25, 32)        0         \n",
      "_________________________________________________________________\n",
      "conv2d_14 (Conv2D)           (None, 25, 25, 12)        3468      \n",
      "_________________________________________________________________\n",
      "batch_normalization_14 (Batc (None, 25, 25, 12)        48        \n",
      "_________________________________________________________________\n",
      "max_pooling2d_11 (MaxPooling (None, 12, 12, 12)        0         \n",
      "_________________________________________________________________\n",
      "dropout_14 (Dropout)         (None, 12, 12, 12)        0         \n",
      "_________________________________________________________________\n",
      "conv2d_15 (Conv2D)           (None, 12, 12, 8)         872       \n",
      "_________________________________________________________________\n",
      "batch_normalization_15 (Batc (None, 12, 12, 8)         32        \n",
      "_________________________________________________________________\n",
      "dropout_15 (Dropout)         (None, 12, 12, 8)         0         \n",
      "_________________________________________________________________\n",
      "flatten_3 (Flatten)          (None, 1152)              0         \n",
      "_________________________________________________________________\n",
      "dense_6 (Dense)              (None, 128)               147584    \n",
      "_________________________________________________________________\n",
      "dense_7 (Dense)              (None, 11)                1419      \n",
      "=================================================================\n",
      "Total params: 173,487\n",
      "Trainable params: 173,255\n",
      "Non-trainable params: 232\n",
      "_________________________________________________________________\n"
     ]
    }
   ],
   "source": [
    "model.summary()"
   ]
  },
  {
   "cell_type": "markdown",
   "metadata": {},
   "source": [
    "## Train model\n",
    "Zeng et al does not discuss the size of batches used or if overfitting occured"
   ]
  },
  {
   "cell_type": "code",
   "execution_count": 72,
   "metadata": {},
   "outputs": [
    {
     "name": "stdout",
     "output_type": "stream",
     "text": [
      "Train on 49500 samples, validate on 5500 samples\n",
      "Epoch 1/50\n",
      "49500/49500 [==============================] - 32s 650us/sample - loss: 1.0680 - accuracy: 0.5472 - val_loss: 5.1105 - val_accuracy: 0.1325\n",
      "Epoch 2/50\n",
      "49500/49500 [==============================] - 36s 734us/sample - loss: 0.6622 - accuracy: 0.6912 - val_loss: 1.8961 - val_accuracy: 0.4065\n",
      "Epoch 3/50\n",
      "49500/49500 [==============================] - 40s 817us/sample - loss: 0.5680 - accuracy: 0.7228 - val_loss: 0.9396 - val_accuracy: 0.6062\n",
      "Epoch 4/50\n",
      "49500/49500 [==============================] - 41s 818us/sample - loss: 0.5325 - accuracy: 0.7357 - val_loss: 0.6028 - val_accuracy: 0.7313\n",
      "Epoch 5/50\n",
      "49500/49500 [==============================] - 43s 871us/sample - loss: 0.5113 - accuracy: 0.7460 - val_loss: 1.0330 - val_accuracy: 0.6402\n",
      "Epoch 6/50\n",
      "49500/49500 [==============================] - 43s 874us/sample - loss: 0.5005 - accuracy: 0.7504 - val_loss: 0.6166 - val_accuracy: 0.7327\n",
      "Epoch 7/50\n",
      "49500/49500 [==============================] - 43s 870us/sample - loss: 0.4906 - accuracy: 0.7565 - val_loss: 3.0799 - val_accuracy: 0.3724\n",
      "Epoch 8/50\n",
      "49500/49500 [==============================] - 43s 872us/sample - loss: 0.4811 - accuracy: 0.7635 - val_loss: 0.5091 - val_accuracy: 0.7647\n",
      "Epoch 9/50\n",
      "49500/49500 [==============================] - 43s 873us/sample - loss: 0.4778 - accuracy: 0.7651 - val_loss: 0.5066 - val_accuracy: 0.7571\n",
      "Epoch 10/50\n",
      "49500/49500 [==============================] - 43s 874us/sample - loss: 0.4643 - accuracy: 0.7712 - val_loss: 1.1881 - val_accuracy: 0.6344\n",
      "Epoch 11/50\n",
      "49500/49500 [==============================] - 43s 875us/sample - loss: 0.4619 - accuracy: 0.7740 - val_loss: 0.9963 - val_accuracy: 0.7002\n",
      "Epoch 12/50\n",
      "49500/49500 [==============================] - 43s 873us/sample - loss: 0.4522 - accuracy: 0.7790 - val_loss: 2.8940 - val_accuracy: 0.4122\n",
      "Epoch 13/50\n",
      "49500/49500 [==============================] - 43s 874us/sample - loss: 0.4445 - accuracy: 0.7828 - val_loss: 0.8361 - val_accuracy: 0.7242\n",
      "Epoch 14/50\n",
      "49500/49500 [==============================] - 43s 875us/sample - loss: 0.4413 - accuracy: 0.7861 - val_loss: 0.5886 - val_accuracy: 0.7525\n",
      "Epoch 15/50\n",
      "49500/49500 [==============================] - 43s 876us/sample - loss: 0.4294 - accuracy: 0.7902 - val_loss: 0.7130 - val_accuracy: 0.7191\n",
      "Epoch 16/50\n",
      "49500/49500 [==============================] - 43s 876us/sample - loss: 0.4239 - accuracy: 0.7979 - val_loss: 0.4934 - val_accuracy: 0.7822\n",
      "Epoch 17/50\n",
      "49500/49500 [==============================] - 43s 873us/sample - loss: 0.4154 - accuracy: 0.8007 - val_loss: 0.7264 - val_accuracy: 0.7118\n",
      "Epoch 18/50\n",
      "49500/49500 [==============================] - 43s 875us/sample - loss: 0.4054 - accuracy: 0.8050 - val_loss: 0.6718 - val_accuracy: 0.7415\n",
      "Epoch 19/50\n",
      "49500/49500 [==============================] - 43s 876us/sample - loss: 0.3965 - accuracy: 0.8084 - val_loss: 2.3775 - val_accuracy: 0.5564\n",
      "Epoch 20/50\n",
      "49500/49500 [==============================] - 43s 877us/sample - loss: 0.3925 - accuracy: 0.8139 - val_loss: 2.8838 - val_accuracy: 0.4944\n",
      "Epoch 21/50\n",
      "49500/49500 [==============================] - 43s 875us/sample - loss: 0.3864 - accuracy: 0.8155 - val_loss: 0.5968 - val_accuracy: 0.7567\n",
      "Epoch 22/50\n",
      "49500/49500 [==============================] - 43s 878us/sample - loss: 0.3783 - accuracy: 0.8172 - val_loss: 3.6455 - val_accuracy: 0.3902\n",
      "Epoch 23/50\n",
      "49500/49500 [==============================] - 43s 875us/sample - loss: 0.3770 - accuracy: 0.8204 - val_loss: 0.3785 - val_accuracy: 0.8204\n",
      "Epoch 24/50\n",
      "49500/49500 [==============================] - 43s 875us/sample - loss: 0.3694 - accuracy: 0.8225 - val_loss: 0.4405 - val_accuracy: 0.7942\n",
      "Epoch 25/50\n",
      "49500/49500 [==============================] - 43s 875us/sample - loss: 0.3678 - accuracy: 0.8221 - val_loss: 0.5467 - val_accuracy: 0.7824\n",
      "Epoch 26/50\n",
      "49500/49500 [==============================] - 43s 875us/sample - loss: 0.3628 - accuracy: 0.8239 - val_loss: 1.8241 - val_accuracy: 0.6716\n",
      "Epoch 27/50\n",
      "49500/49500 [==============================] - 43s 874us/sample - loss: 0.3601 - accuracy: 0.8265 - val_loss: 0.6659 - val_accuracy: 0.7449\n",
      "Epoch 28/50\n",
      "49500/49500 [==============================] - 43s 873us/sample - loss: 0.3522 - accuracy: 0.8301 - val_loss: 1.0423 - val_accuracy: 0.7031\n",
      "Epoch 29/50\n",
      "49500/49500 [==============================] - 43s 875us/sample - loss: 0.3516 - accuracy: 0.8292 - val_loss: 0.5818 - val_accuracy: 0.7720\n",
      "Epoch 30/50\n",
      "49500/49500 [==============================] - 43s 873us/sample - loss: 0.3489 - accuracy: 0.8310 - val_loss: 0.9660 - val_accuracy: 0.7547\n",
      "Epoch 31/50\n",
      "49500/49500 [==============================] - 43s 873us/sample - loss: 0.3423 - accuracy: 0.8333 - val_loss: 0.4626 - val_accuracy: 0.8093\n",
      "Epoch 32/50\n",
      "49500/49500 [==============================] - 43s 873us/sample - loss: 0.3386 - accuracy: 0.8350 - val_loss: 0.4581 - val_accuracy: 0.8018\n",
      "Epoch 33/50\n",
      "49500/49500 [==============================] - 43s 875us/sample - loss: 0.3389 - accuracy: 0.8340 - val_loss: 3.5747 - val_accuracy: 0.4796\n",
      "Epoch 34/50\n",
      "49500/49500 [==============================] - 43s 870us/sample - loss: 0.3362 - accuracy: 0.8369 - val_loss: 1.3464 - val_accuracy: 0.6300\n",
      "Epoch 35/50\n",
      "49500/49500 [==============================] - 43s 874us/sample - loss: 0.3317 - accuracy: 0.8378 - val_loss: 0.6018 - val_accuracy: 0.7796\n",
      "Epoch 36/50\n",
      "49500/49500 [==============================] - 43s 873us/sample - loss: 0.3292 - accuracy: 0.8389 - val_loss: 0.7526 - val_accuracy: 0.7205\n",
      "Epoch 37/50\n",
      "49500/49500 [==============================] - 43s 874us/sample - loss: 0.3262 - accuracy: 0.8397 - val_loss: 4.2424 - val_accuracy: 0.3655\n",
      "Epoch 38/50\n",
      "49500/49500 [==============================] - 44s 882us/sample - loss: 0.3239 - accuracy: 0.8436 - val_loss: 0.4521 - val_accuracy: 0.8089\n",
      "Epoch 39/50\n",
      "49500/49500 [==============================] - 44s 881us/sample - loss: 0.3221 - accuracy: 0.8419 - val_loss: 0.5161 - val_accuracy: 0.8009\n",
      "Epoch 40/50\n",
      "49500/49500 [==============================] - 43s 873us/sample - loss: 0.3183 - accuracy: 0.8434 - val_loss: 0.4035 - val_accuracy: 0.8216\n",
      "Epoch 41/50\n",
      "49500/49500 [==============================] - 43s 870us/sample - loss: 0.3171 - accuracy: 0.8440 - val_loss: 0.7725 - val_accuracy: 0.7622\n",
      "Epoch 42/50\n",
      "49500/49500 [==============================] - 43s 870us/sample - loss: 0.3131 - accuracy: 0.8460 - val_loss: 1.2683 - val_accuracy: 0.6449\n",
      "Epoch 43/50\n",
      "49500/49500 [==============================] - 43s 868us/sample - loss: 0.3117 - accuracy: 0.8459 - val_loss: 0.4380 - val_accuracy: 0.8031\n",
      "Epoch 44/50\n",
      "49500/49500 [==============================] - 43s 865us/sample - loss: 0.3125 - accuracy: 0.8472 - val_loss: 3.4101 - val_accuracy: 0.5282\n",
      "Epoch 45/50\n",
      "49500/49500 [==============================] - 42s 853us/sample - loss: 0.3111 - accuracy: 0.8461 - val_loss: 5.8287 - val_accuracy: 0.4055\n",
      "Epoch 46/50\n",
      "49500/49500 [==============================] - 41s 838us/sample - loss: 0.3093 - accuracy: 0.8485 - val_loss: 0.5238 - val_accuracy: 0.7862\n",
      "Epoch 47/50\n",
      "49500/49500 [==============================] - 42s 851us/sample - loss: 0.3059 - accuracy: 0.8489 - val_loss: 1.8120 - val_accuracy: 0.6571\n",
      "Epoch 48/50\n",
      "49500/49500 [==============================] - 43s 870us/sample - loss: 0.3021 - accuracy: 0.8517 - val_loss: 0.5210 - val_accuracy: 0.8020\n",
      "Epoch 49/50\n",
      "49500/49500 [==============================] - 43s 867us/sample - loss: 0.3045 - accuracy: 0.8496 - val_loss: 0.7222 - val_accuracy: 0.7071\n",
      "Epoch 50/50\n",
      "49500/49500 [==============================] - 43s 864us/sample - loss: 0.3020 - accuracy: 0.8505 - val_loss: 0.5148 - val_accuracy: 0.8049\n"
     ]
    }
   ],
   "source": [
    "history_MPun = model.fit(X_train, y_train, batch_size=128, epochs=50, validation_split=0.1, verbose=1)"
   ]
  },
  {
   "cell_type": "markdown",
   "metadata": {},
   "source": [
    "## View training stats"
   ]
  },
  {
   "cell_type": "code",
   "execution_count": 75,
   "metadata": {},
   "outputs": [
    {
     "name": "stdout",
     "output_type": "stream",
     "text": [
      "Plot description: \n",
      "Magnitude and phase spectrograms, trained for 50 epochs. \n",
      "SNRs of 10 to 18 were used.\n",
      "\n",
      "final accuracy:\t\t\t0.869939386844635\n",
      "final validation accuracy:\t0.836545467376709\n"
     ]
    },
    {
     "data": {
      "image/png": "[encoded data removed]",
      "text/plain": [
       "<Figure size 720x360 with 1 Axes>"
      ]
     },
     "metadata": {
      "needs_background": "light"
     },
     "output_type": "display_data"
    }
   ],
   "source": [
    "desc = f\"\"\"\n",
    "Magnitude and phase spectrograms, trained for {len(history_MP.history['accuracy'])} epochs. \n",
    "SNRs of 10 to 18 were used.\n",
    "\"\"\"\n",
    "\n",
    "viz.plot_history(history_MP, desc)"
   ]
  },
  {
   "cell_type": "code",
   "execution_count": 76,
   "metadata": {},
   "outputs": [
    {
     "name": "stdout",
     "output_type": "stream",
     "text": [
      "Plot description: \n",
      "Magnitude and phase (unwrapped) spectrograms, trained for 50 epochs. \n",
      "SNRs of 10 to 18 were used.\n",
      "\n",
      "final accuracy:\t\t\t0.8505252599716187\n",
      "final validation accuracy:\t0.8049091100692749\n"
     ]
    },
    {
     "data": {
      "image/png": "[encoded data removed]",
      "text/plain": [
       "<Figure size 720x360 with 1 Axes>"
      ]
     },
     "metadata": {
      "needs_background": "light"
     },
     "output_type": "display_data"
    }
   ],
   "source": [
    "desc = f\"\"\"\n",
    "Magnitude and phase (unwrapped) spectrograms, trained for {len(history_MP.history['accuracy'])} epochs. \n",
    "SNRs of 10 to 18 were used.\n",
    "\"\"\"\n",
    "\n",
    "viz.plot_history(history_MPun, desc)"
   ]
  },
  {
   "cell_type": "code",
   "execution_count": 65,
   "metadata": {},
   "outputs": [
    {
     "name": "stdout",
     "output_type": "stream",
     "text": [
      "Plot description: \n",
      "In-phase and quadrature spectrograms trained for 50 epochs.\n",
      "SNRs of 10 to 18 were used.\n",
      "\n"
     ]
    },
    {
     "data": {
      "image/png": "[encoded data removed]",
      "text/plain": [
       "<Figure size 720x360 with 1 Axes>"
      ]
     },
     "metadata": {
      "needs_background": "light"
     },
     "output_type": "display_data"
    },
    {
     "name": "stdout",
     "output_type": "stream",
     "text": [
      "final accuracy:\t\t\t0.826424241065979\n",
      "final validation accuracy:\t0.4145454466342926\n"
     ]
    }
   ],
   "source": [
    "desc = f\"\"\"\n",
    "In-phase and quadrature spectrograms trained for {len(history_IQ.history['accuracy'])} epochs.\n",
    "SNRs of 10 to 18 were used.\n",
    "\"\"\"\n",
    "\n",
    "viz.plot_historyory(history_IQ, desc)"
   ]
  },
  {
   "cell_type": "markdown",
   "metadata": {},
   "source": [
    "## Evaluate model\n",
    "TODO: this uses the training data as no seperate test data was set aside. There was discussion online about this, need to look into if further."
   ]
  },
  {
   "cell_type": "code",
   "execution_count": null,
   "metadata": {},
   "outputs": [],
   "source": [
    "loss, accuracy = model.evaluate(X_test, y_test, verbose=0, batch_size=128)\n",
    "print(\"Loss:\\t\\t{}\\nAccuracy:\\t{}\".format(loss, accuracy))"
   ]
  },
  {
   "cell_type": "markdown",
   "metadata": {},
   "source": [
    "## Save model"
   ]
  },
  {
   "cell_type": "code",
   "execution_count": 25,
   "metadata": {},
   "outputs": [
    {
     "name": "stdout",
     "output_type": "stream",
     "text": [
      "INFO:tensorflow:Assets written to: ../models/cSCNNmp_10-18_50e.model/assets\n"
     ]
    }
   ],
   "source": [
    "model.save('../models/cSCNNmp_10-18_50e.model')"
   ]
  },
  {
   "cell_type": "markdown",
   "metadata": {},
   "source": [
    "## Load model"
   ]
  },
  {
   "cell_type": "code",
   "execution_count": 30,
   "metadata": {},
   "outputs": [],
   "source": [
    "model = tf.keras.models.load_model('../models/cSCNNmp_10_18.model')"
   ]
  },
  {
   "cell_type": "code",
   "execution_count": 31,
   "metadata": {},
   "outputs": [
    {
     "name": "stdout",
     "output_type": "stream",
     "text": [
      "Model: \"sequential_2\"\n",
      "_________________________________________________________________\n",
      "Layer (type)                 Output Shape              Param #   \n",
      "=================================================================\n",
      "conv2d_8 (Conv2D)            (None, 100, 100, 64)      1216      \n",
      "_________________________________________________________________\n",
      "batch_normalization (BatchNo (None, 100, 100, 64)      256       \n",
      "_________________________________________________________________\n",
      "max_pooling2d_6 (MaxPooling2 (None, 50, 50, 64)        0         \n",
      "_________________________________________________________________\n",
      "dropout (Dropout)            (None, 50, 50, 64)        0         \n",
      "_________________________________________________________________\n",
      "conv2d_9 (Conv2D)            (None, 50, 50, 32)        18464     \n",
      "_________________________________________________________________\n",
      "batch_normalization_1 (Batch (None, 50, 50, 32)        128       \n",
      "_________________________________________________________________\n",
      "max_pooling2d_7 (MaxPooling2 (None, 25, 25, 32)        0         \n",
      "_________________________________________________________________\n",
      "dropout_1 (Dropout)          (None, 25, 25, 32)        0         \n",
      "_________________________________________________________________\n",
      "conv2d_10 (Conv2D)           (None, 25, 25, 12)        3468      \n",
      "_________________________________________________________________\n",
      "batch_normalization_2 (Batch (None, 25, 25, 12)        48        \n",
      "_________________________________________________________________\n",
      "max_pooling2d_8 (MaxPooling2 (None, 12, 12, 12)        0         \n",
      "_________________________________________________________________\n",
      "dropout_2 (Dropout)          (None, 12, 12, 12)        0         \n",
      "_________________________________________________________________\n",
      "conv2d_11 (Conv2D)           (None, 12, 12, 8)         872       \n",
      "_________________________________________________________________\n",
      "batch_normalization_3 (Batch (None, 12, 12, 8)         32        \n",
      "_________________________________________________________________\n",
      "dropout_3 (Dropout)          (None, 12, 12, 8)         0         \n",
      "_________________________________________________________________\n",
      "flatten_2 (Flatten)          (None, 1152)              0         \n",
      "_________________________________________________________________\n",
      "dense_4 (Dense)              (None, 128)               147584    \n",
      "_________________________________________________________________\n",
      "dense_5 (Dense)              (None, 11)                1419      \n",
      "=================================================================\n",
      "Total params: 173,487\n",
      "Trainable params: 173,255\n",
      "Non-trainable params: 232\n",
      "_________________________________________________________________\n"
     ]
    }
   ],
   "source": [
    "model.summary()"
   ]
  }
 ],
 "metadata": {
  "kernelspec": {
   "display_name": "Python 3",
   "language": "python",
   "name": "python3"
  },
  "language_info": {
   "codemirror_mode": {
    "name": "ipython",
    "version": 3
   },
   "file_extension": ".py",
   "mimetype": "text/x-python",
   "name": "python",
   "nbconvert_exporter": "python",
   "pygments_lexer": "ipython3",
   "version": "3.6.9"
  }
 },
 "nbformat": 4,
 "nbformat_minor": 2
}
