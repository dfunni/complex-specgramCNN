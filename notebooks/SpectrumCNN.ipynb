{
 "cells": [
  {
   "cell_type": "markdown",
   "metadata": {},
   "source": [
    "# Spectrum CNN\n",
    "\n",
    "Automatic modulation recognition with CNN using spectrogram data based on technique from Zeng et al's paper \"Spectrum Analysis and Convolutiopnal Neural Netowrk for Automatic Modulation Recognition\" published in IEEE Wireless Communications Letters, Vol 8, No 3, of June 2019.\n",
    "\n",
    "This example deviates from Zeng et al's in tje following ways:\n",
    "\n",
    "- Spectrogram data (CNN input) is provided as a 2D (time and freqnency) array of intensity values as apposed to a 3D (time, frequency, and three color channels) array. This allows Conv2D layers to be used vs Conv3D. This change reduces the number of learned parameters from 199k to 172k.\n",
    "\n",
    "\n",
    "- The dataset combines spectrograms from multiple SNRs (0 to 18 dB) vs only using a single SNR per model. This is inteded to make the trained model more robust to noise by 1) providing more training data, and 2) providing a wider variety of data due to various ammounts of noise present."
   ]
  },
  {
   "cell_type": "code",
   "execution_count": 1,
   "metadata": {},
   "outputs": [],
   "source": [
    "import sys\n",
    "sys.path.append(\"../modules\")\n",
    "\n",
    "import tensorflow as tf\n",
    "import tensorflow.keras as K\n",
    "import numpy as np\n",
    "import matplotlib.pyplot as plt\n",
    "import pickle\n",
    "\n",
    "from tensorflow.keras.models import Sequential\n",
    "from tensorflow.keras.layers import Conv2D, MaxPooling2D, Flatten, Dense\n",
    "\n",
    "\n",
    "\n",
    "import utilities as ut\n",
    "import preprocess\n",
    "\n",
    "%matplotlib inline\n",
    "plt.rcParams['figure.figsize'] = [10, 5]"
   ]
  },
  {
   "cell_type": "markdown",
   "metadata": {},
   "source": [
    "The following cell can be run to reload the iq_utils modlue after editing during notebook testing"
   ]
  },
  {
   "cell_type": "code",
   "execution_count": 5,
   "metadata": {},
   "outputs": [
    {
     "data": {
      "text/plain": [
       "<module 'preprocess' from '../modules/preprocess.py'>"
      ]
     },
     "execution_count": 5,
     "metadata": {},
     "output_type": "execute_result"
    }
   ],
   "source": [
    "from importlib import reload\n",
    "reload(ut)\n",
    "reload(preprocess)"
   ]
  },
  {
   "cell_type": "markdown",
   "metadata": {},
   "source": [
    "## Load data"
   ]
  },
  {
   "cell_type": "code",
   "execution_count": 28,
   "metadata": {},
   "outputs": [],
   "source": [
    "spec_dict = ut.from_pickle('../processed_data/spectrogram_dict_18_IQ')"
   ]
  },
  {
   "cell_type": "code",
   "execution_count": 29,
   "metadata": {},
   "outputs": [],
   "source": [
    "X_train, y_train, X_test, y_test = preprocess.process_data(spec_dict, test_split=0.0, blur=False)"
   ]
  },
  {
   "cell_type": "code",
   "execution_count": 30,
   "metadata": {},
   "outputs": [
    {
     "name": "stdout",
     "output_type": "stream",
     "text": [
      "There are 11000 samples in the trianing set and 11000 in the testing set\n"
     ]
    }
   ],
   "source": [
    "print('There are {} samples in the trianing set and {} in the testing set'.format(X_train.shape[0], X_train.shape[0]))"
   ]
  },
  {
   "cell_type": "markdown",
   "metadata": {},
   "source": [
    "## Build model"
   ]
  },
  {
   "cell_type": "code",
   "execution_count": 31,
   "metadata": {},
   "outputs": [],
   "source": [
    "model = Sequential()\n",
    "model.add(Conv2D(64, kernel_size=(3,3), activation='relu', input_shape=X_train.shape[1:], padding='same'))\n",
    "model.add(MaxPooling2D(pool_size=(2,2)))\n",
    "model.add(Conv2D(32, kernel_size=(3,3), activation='relu', padding='same'))\n",
    "model.add(MaxPooling2D(pool_size=(2,2)))\n",
    "model.add(Conv2D(12, kernel_size=(3,3), activation='relu', padding='same'))\n",
    "model.add(MaxPooling2D(pool_size=(2,2)))\n",
    "model.add(Conv2D(8, kernel_size=(3,3), activation='relu', padding='same'))\n",
    "model.add(Flatten())\n",
    "model.add(Dense(128, activation='relu'))\n",
    "model.add(Dense(11, activation='softmax'))\n",
    "\n",
    "model.compile(loss='sparse_categorical_crossentropy',\n",
    "              optimizer='adam',\n",
    "              metrics=['accuracy'])"
   ]
  },
  {
   "cell_type": "code",
   "execution_count": 32,
   "metadata": {},
   "outputs": [
    {
     "name": "stdout",
     "output_type": "stream",
     "text": [
      "Model: \"sequential_3\"\n",
      "_________________________________________________________________\n",
      "Layer (type)                 Output Shape              Param #   \n",
      "=================================================================\n",
      "conv2d_12 (Conv2D)           (None, 100, 100, 64)      1216      \n",
      "_________________________________________________________________\n",
      "max_pooling2d_9 (MaxPooling2 (None, 50, 50, 64)        0         \n",
      "_________________________________________________________________\n",
      "conv2d_13 (Conv2D)           (None, 50, 50, 32)        18464     \n",
      "_________________________________________________________________\n",
      "max_pooling2d_10 (MaxPooling (None, 25, 25, 32)        0         \n",
      "_________________________________________________________________\n",
      "conv2d_14 (Conv2D)           (None, 25, 25, 12)        3468      \n",
      "_________________________________________________________________\n",
      "max_pooling2d_11 (MaxPooling (None, 12, 12, 12)        0         \n",
      "_________________________________________________________________\n",
      "conv2d_15 (Conv2D)           (None, 12, 12, 8)         872       \n",
      "_________________________________________________________________\n",
      "flatten_3 (Flatten)          (None, 1152)              0         \n",
      "_________________________________________________________________\n",
      "dense_6 (Dense)              (None, 128)               147584    \n",
      "_________________________________________________________________\n",
      "dense_7 (Dense)              (None, 11)                1419      \n",
      "=================================================================\n",
      "Total params: 173,023\n",
      "Trainable params: 173,023\n",
      "Non-trainable params: 0\n",
      "_________________________________________________________________\n"
     ]
    }
   ],
   "source": [
    "model.summary()"
   ]
  },
  {
   "cell_type": "markdown",
   "metadata": {},
   "source": [
    "## Train model\n",
    "Zeng et al does not discuss the size of batches used or if overfitting occured"
   ]
  },
  {
   "cell_type": "code",
   "execution_count": 33,
   "metadata": {
    "scrolled": true
   },
   "outputs": [
    {
     "name": "stdout",
     "output_type": "stream",
     "text": [
      "Train on 9900 samples, validate on 1100 samples\n",
      "Epoch 1/40\n",
      "9900/9900 [==============================] - 35s 3ms/sample - loss: 2.3980 - accuracy: 0.0949 - val_loss: 2.3853 - val_accuracy: 0.1745\n",
      "Epoch 2/40\n",
      "9900/9900 [==============================] - 34s 3ms/sample - loss: 1.9260 - accuracy: 0.2704 - val_loss: 1.6786 - val_accuracy: 0.3918\n",
      "Epoch 3/40\n",
      "9900/9900 [==============================] - 34s 3ms/sample - loss: 1.4453 - accuracy: 0.4207 - val_loss: 1.4756 - val_accuracy: 0.4118\n",
      "Epoch 4/40\n",
      "9900/9900 [==============================] - 34s 3ms/sample - loss: 1.3621 - accuracy: 0.4425 - val_loss: 1.4227 - val_accuracy: 0.4191\n",
      "Epoch 5/40\n",
      "9900/9900 [==============================] - 33s 3ms/sample - loss: 1.2668 - accuracy: 0.4775 - val_loss: 1.3654 - val_accuracy: 0.4018\n",
      "Epoch 6/40\n",
      "9900/9900 [==============================] - 33s 3ms/sample - loss: 1.2317 - accuracy: 0.4778 - val_loss: 1.3471 - val_accuracy: 0.4545\n",
      "Epoch 7/40\n",
      "9900/9900 [==============================] - 33s 3ms/sample - loss: 1.2904 - accuracy: 0.4626 - val_loss: 1.3130 - val_accuracy: 0.4291\n",
      "Epoch 8/40\n",
      "9900/9900 [==============================] - 33s 3ms/sample - loss: 1.2018 - accuracy: 0.4896 - val_loss: 1.6177 - val_accuracy: 0.3673\n",
      "Epoch 9/40\n",
      "9900/9900 [==============================] - 33s 3ms/sample - loss: 1.3191 - accuracy: 0.4501 - val_loss: 1.3012 - val_accuracy: 0.4736\n",
      "Epoch 10/40\n",
      "9900/9900 [==============================] - 33s 3ms/sample - loss: 1.1585 - accuracy: 0.5023 - val_loss: 1.2557 - val_accuracy: 0.4700\n",
      "Epoch 11/40\n",
      "9900/9900 [==============================] - 33s 3ms/sample - loss: 1.1313 - accuracy: 0.5149 - val_loss: 1.2218 - val_accuracy: 0.5009\n",
      "Epoch 12/40\n",
      "9900/9900 [==============================] - 33s 3ms/sample - loss: 1.1236 - accuracy: 0.5207 - val_loss: 1.3173 - val_accuracy: 0.4382\n",
      "Epoch 13/40\n",
      "9900/9900 [==============================] - 33s 3ms/sample - loss: 1.1038 - accuracy: 0.5265 - val_loss: 1.2553 - val_accuracy: 0.4782\n",
      "Epoch 14/40\n",
      "9900/9900 [==============================] - 33s 3ms/sample - loss: 1.1032 - accuracy: 0.5230 - val_loss: 1.1666 - val_accuracy: 0.4827\n",
      "Epoch 15/40\n",
      "9900/9900 [==============================] - 33s 3ms/sample - loss: 1.0821 - accuracy: 0.5309 - val_loss: 1.1750 - val_accuracy: 0.5127\n",
      "Epoch 16/40\n",
      "9900/9900 [==============================] - 33s 3ms/sample - loss: 1.0594 - accuracy: 0.5373 - val_loss: 1.1619 - val_accuracy: 0.5173\n",
      "Epoch 17/40\n",
      "9900/9900 [==============================] - 33s 3ms/sample - loss: 1.0640 - accuracy: 0.5337 - val_loss: 1.1977 - val_accuracy: 0.5164\n",
      "Epoch 18/40\n",
      "9900/9900 [==============================] - 33s 3ms/sample - loss: 1.0396 - accuracy: 0.5436 - val_loss: 1.2451 - val_accuracy: 0.5000\n",
      "Epoch 19/40\n",
      "9900/9900 [==============================] - 33s 3ms/sample - loss: 1.0589 - accuracy: 0.5314 - val_loss: 1.1202 - val_accuracy: 0.5045\n",
      "Epoch 20/40\n",
      "9900/9900 [==============================] - 33s 3ms/sample - loss: 1.0174 - accuracy: 0.5470 - val_loss: 1.0992 - val_accuracy: 0.5345\n",
      "Epoch 21/40\n",
      "9900/9900 [==============================] - 33s 3ms/sample - loss: 1.0006 - accuracy: 0.5577 - val_loss: 1.1057 - val_accuracy: 0.5473\n",
      "Epoch 22/40\n",
      "9900/9900 [==============================] - 33s 3ms/sample - loss: 0.9888 - accuracy: 0.5575 - val_loss: 1.1198 - val_accuracy: 0.4918\n",
      "Epoch 23/40\n",
      "9900/9900 [==============================] - 33s 3ms/sample - loss: 1.0012 - accuracy: 0.5598 - val_loss: 1.2537 - val_accuracy: 0.5173\n",
      "Epoch 24/40\n",
      "9900/9900 [==============================] - 33s 3ms/sample - loss: 0.9729 - accuracy: 0.5694 - val_loss: 1.0532 - val_accuracy: 0.5200\n",
      "Epoch 25/40\n",
      "9900/9900 [==============================] - 33s 3ms/sample - loss: 0.9657 - accuracy: 0.5671 - val_loss: 1.0807 - val_accuracy: 0.5473\n",
      "Epoch 26/40\n",
      "9900/9900 [==============================] - 33s 3ms/sample - loss: 0.9351 - accuracy: 0.5797 - val_loss: 1.0042 - val_accuracy: 0.5718\n",
      "Epoch 27/40\n",
      "9900/9900 [==============================] - 33s 3ms/sample - loss: 0.9201 - accuracy: 0.5836 - val_loss: 1.0116 - val_accuracy: 0.5700\n",
      "Epoch 28/40\n",
      "9900/9900 [==============================] - 33s 3ms/sample - loss: 0.9248 - accuracy: 0.5820 - val_loss: 1.0521 - val_accuracy: 0.5536\n",
      "Epoch 29/40\n",
      "9900/9900 [==============================] - 33s 3ms/sample - loss: 0.9087 - accuracy: 0.5866 - val_loss: 0.9806 - val_accuracy: 0.5782\n",
      "Epoch 30/40\n",
      "9900/9900 [==============================] - 33s 3ms/sample - loss: 0.8695 - accuracy: 0.6049 - val_loss: 0.9561 - val_accuracy: 0.6100\n",
      "Epoch 31/40\n",
      "9900/9900 [==============================] - 33s 3ms/sample - loss: 0.8617 - accuracy: 0.6130 - val_loss: 0.9942 - val_accuracy: 0.5982\n",
      "Epoch 32/40\n",
      "9900/9900 [==============================] - 33s 3ms/sample - loss: 0.8494 - accuracy: 0.6132 - val_loss: 0.9517 - val_accuracy: 0.5482\n",
      "Epoch 33/40\n",
      "9900/9900 [==============================] - 33s 3ms/sample - loss: 0.8341 - accuracy: 0.6243 - val_loss: 0.9454 - val_accuracy: 0.6000\n",
      "Epoch 34/40\n",
      "9900/9900 [==============================] - 33s 3ms/sample - loss: 0.8620 - accuracy: 0.6168 - val_loss: 0.9551 - val_accuracy: 0.5991\n",
      "Epoch 35/40\n",
      "9900/9900 [==============================] - 33s 3ms/sample - loss: 0.8337 - accuracy: 0.6204 - val_loss: 0.9806 - val_accuracy: 0.5755\n",
      "Epoch 36/40\n",
      "9900/9900 [==============================] - 33s 3ms/sample - loss: 0.8096 - accuracy: 0.6252 - val_loss: 0.8696 - val_accuracy: 0.6445\n",
      "Epoch 37/40\n",
      "9900/9900 [==============================] - 33s 3ms/sample - loss: 0.7699 - accuracy: 0.6554 - val_loss: 0.8991 - val_accuracy: 0.6173\n",
      "Epoch 38/40\n",
      "9900/9900 [==============================] - 33s 3ms/sample - loss: 0.7864 - accuracy: 0.6406 - val_loss: 1.0393 - val_accuracy: 0.5827\n",
      "Epoch 39/40\n",
      "9900/9900 [==============================] - 33s 3ms/sample - loss: 0.7898 - accuracy: 0.6380 - val_loss: 0.8983 - val_accuracy: 0.5682\n",
      "Epoch 40/40\n",
      "9900/9900 [==============================] - 33s 3ms/sample - loss: 0.7533 - accuracy: 0.6591 - val_loss: 0.8719 - val_accuracy: 0.6382\n"
     ]
    }
   ],
   "source": [
    "history_IQ = model.fit(X_train, y_train, batch_size=128, epochs=40, validation_split=0.1, verbose=1)"
   ]
  },
  {
   "cell_type": "markdown",
   "metadata": {},
   "source": [
    "## View training stats"
   ]
  },
  {
   "cell_type": "markdown",
   "metadata": {},
   "source": [
    "The following cell shows training of dataset using 18 dBm SNR only and the SCNN methodology on 3 channels of data (mag, phase, angle).\n",
    "\n",
    " - Model was trained for 40 epochs (~45s per epoch training time)\n",
    " - Batch size = 128\n",
    " - Train/test split of 0.1 was used\n",
    " - Of the training data, a 0.1 validation split was used.\n",
    " \n",
    "The dataset has 11,0000 examples (1,000 of each modulation technique and SNR)."
   ]
  },
  {
   "cell_type": "code",
   "execution_count": 27,
   "metadata": {},
   "outputs": [
    {
     "data": {
      "image/png": "[encoded data removed]",
      "text/plain": [
       "<Figure size 720x360 with 1 Axes>"
      ]
     },
     "metadata": {
      "needs_background": "light"
     },
     "output_type": "display_data"
    }
   ],
   "source": [
    "plt.plot(history_MPh.history['accuracy'])\n",
    "plt.plot(history_MPh.history['val_accuracy'])\n",
    "plt.title('Model accuracy')\n",
    "plt.ylabel('Accuracy')\n",
    "plt.xlabel('Epoch')\n",
    "plt.ylim(0,1)\n",
    "plt.legend(['Train', 'Test'], loc='upper left')\n",
    "plt.show()"
   ]
  },
  {
   "cell_type": "markdown",
   "metadata": {},
   "source": [
    "The following cell shows training of dataset consisting of 2 dBm SNR only and the SCNN methodology on 3 channels of data (mag, phase, angle). The model was pretrained on 18 dBm SNR dataset for 40 epochs.\n",
    "\n",
    " - Model was trained for 40 epochs (~4s per epoch training time)\n",
    " - Batch size = 128\n",
    " - No test set was used\n",
    " - Trainig data was split with validation split of 0.1\n",
    "\n",
    "Dataset consits of 11,000 total examples with 1,000 examples of each modulation technique."
   ]
  },
  {
   "cell_type": "code",
   "execution_count": 34,
   "metadata": {},
   "outputs": [
    {
     "data": {
      "image/png": "[encoded data removed]",
      "text/plain": [
       "<Figure size 720x360 with 1 Axes>"
      ]
     },
     "metadata": {
      "needs_background": "light"
     },
     "output_type": "display_data"
    }
   ],
   "source": [
    "plt.plot(history_IQ.history['accuracy'])\n",
    "plt.plot(history_IQ.history['val_accuracy'])\n",
    "plt.title('Model accuracy')\n",
    "plt.ylabel('Accuracy')\n",
    "plt.xlabel('Epoch')\n",
    "plt.ylim(0,1)\n",
    "plt.legend(['Train', 'Test'], loc='upper left')\n",
    "plt.show()"
   ]
  },
  {
   "cell_type": "markdown",
   "metadata": {},
   "source": [
    "The following cell shows training of dataset using 18 dBm SNR only and the SCNN methodology on 3 channels of data (mag, phase, angle). The model was pretrained on 18 dBm SNR dataset for 40 epochs and 2 dBm SNR dataset for 40 epochs.\n",
    "\n",
    " - Model was trained for 40 epochs (~45s per epoch training time)\n",
    " - Batch size = 128\n",
    " - Train/test split of 0.1 was used\n",
    " - Of the training data, a 0.1 validation split was used.\n",
    " \n",
    "The dataset has 11,0000 examples (1,000 of each modulation technique and SNR)."
   ]
  },
  {
   "cell_type": "code",
   "execution_count": null,
   "metadata": {},
   "outputs": [],
   "source": [
    "plt.plot(history_SCNN2.history['accuracy'])\n",
    "plt.plot(history_SCNN2.history['val_accuracy'])\n",
    "plt.title('Model accuracy')\n",
    "plt.ylabel('Accuracy')\n",
    "plt.xlabel('Epoch')\n",
    "plt.ylim(0,1)\n",
    "plt.legend(['Train', 'Test'], loc='upper left')\n",
    "plt.show()"
   ]
  },
  {
   "cell_type": "markdown",
   "metadata": {},
   "source": [
    "## Evaluate model\n",
    "TODO: this uses the training data as no seperate test data was set aside. There was discussion online about this, need to look into if further."
   ]
  },
  {
   "cell_type": "code",
   "execution_count": null,
   "metadata": {},
   "outputs": [],
   "source": [
    "loss, accuracy = model.evaluate(X_test, y_test, verbose=0, batch_size=128)\n",
    "print(\"Loss:\\t\\t{}\\nAccuracy:\\t{}\".format(loss, accuracy))"
   ]
  },
  {
   "cell_type": "markdown",
   "metadata": {},
   "source": [
    "## Save model"
   ]
  },
  {
   "cell_type": "code",
   "execution_count": null,
   "metadata": {},
   "outputs": [],
   "source": [
    "model.save('SCNN2_0_18.model')"
   ]
  },
  {
   "cell_type": "markdown",
   "metadata": {},
   "source": [
    "## Load model"
   ]
  },
  {
   "cell_type": "code",
   "execution_count": null,
   "metadata": {},
   "outputs": [],
   "source": [
    "model = tf.keras.models.load_model('SCNN_0_18.model')"
   ]
  },
  {
   "cell_type": "code",
   "execution_count": null,
   "metadata": {},
   "outputs": [],
   "source": [
    "model.summary()"
   ]
  }
 ],
 "metadata": {
  "kernelspec": {
   "display_name": "Python 3",
   "language": "python",
   "name": "python3"
  },
  "language_info": {
   "codemirror_mode": {
    "name": "ipython",
    "version": 3
   },
   "file_extension": ".py",
   "mimetype": "text/x-python",
   "name": "python",
   "nbconvert_exporter": "python",
   "pygments_lexer": "ipython3",
   "version": "3.6.9"
  }
 },
 "nbformat": 4,
 "nbformat_minor": 2
}
