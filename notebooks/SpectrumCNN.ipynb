{
 "cells": [
  {
   "cell_type": "markdown",
   "metadata": {},
   "source": [
    "# Spectrum CNN\n",
    "\n",
    "Automatic modulation recognition with CNN using spectrogram data based on technique from Zeng et al's paper \"Spectrum Analysis and Convolutiopnal Neural Netowrk for Automatic Modulation Recognition\" published in IEEE Wireless Communications Letters, Vol 8, No 3, of June 2019.\n",
    "\n",
    "This example deviates from Zeng et al's in tje following ways:\n",
    "\n",
    "- Spectrogram data (CNN input) is provided as a 2D (time and freqnency) array of intensity values as apposed to a 3D (time, frequency, and three color channels) array. This allows Conv2D layers to be used vs Conv3D. This change reduces the number of learned parameters from 199k to 172k.\n",
    "\n",
    "\n",
    "- The dataset combines spectrograms from multiple SNRs (0 to 18 dB) vs only using a single SNR per model. This is inteded to make the trained model more robust to noise by 1) providing more training data, and 2) providing a wider variety of data due to various ammounts of noise present."
   ]
  },
  {
   "cell_type": "code",
   "execution_count": 1,
   "metadata": {},
   "outputs": [],
   "source": [
    "import tensorflow as tf\n",
    "import tensorflow.keras as K\n",
    "import numpy as np\n",
    "import matplotlib.pyplot as plt\n",
    "import pickle\n",
    "\n",
    "from tensorflow.keras.models import Sequential\n",
    "from tensorflow.keras.layers import Conv2D, MaxPooling2D, Flatten, Dense\n",
    "\n",
    "\n",
    "\n",
    "import iq_utils as iq\n",
    "%matplotlib inline\n",
    "plt.rcParams['figure.figsize'] = [10, 5]"
   ]
  },
  {
   "cell_type": "markdown",
   "metadata": {},
   "source": [
    "The following cell can be run to reload the iq_utils modlue after editing during notebook testing"
   ]
  },
  {
   "cell_type": "code",
   "execution_count": null,
   "metadata": {},
   "outputs": [],
   "source": [
    "from importlib import reload\n",
    "reload(iq)"
   ]
  },
  {
   "cell_type": "markdown",
   "metadata": {},
   "source": [
    "## Load data"
   ]
  },
  {
   "cell_type": "code",
   "execution_count": 24,
   "metadata": {},
   "outputs": [],
   "source": [
    "spec_dict = iq.from_pickle('spectrogram_dict_18_3c')"
   ]
  },
  {
   "cell_type": "code",
   "execution_count": 25,
   "metadata": {},
   "outputs": [],
   "source": [
    "X_train, y_train, X_test, y_test = iq.process_data(spec_dict, test_split=0.0, blur=False)"
   ]
  },
  {
   "cell_type": "code",
   "execution_count": 26,
   "metadata": {},
   "outputs": [
    {
     "name": "stdout",
     "output_type": "stream",
     "text": [
      "There are 11000 samples in the trianing set and 0 in the testing set\n"
     ]
    }
   ],
   "source": [
    "print('There are {} samples in the trianing set and {} in the testing set'.format(X_train.shape[0], X_test.shape[0]))"
   ]
  },
  {
   "cell_type": "markdown",
   "metadata": {},
   "source": [
    "## Build model"
   ]
  },
  {
   "cell_type": "code",
   "execution_count": 12,
   "metadata": {},
   "outputs": [],
   "source": [
    "model = Sequential()\n",
    "model.add(Conv2D(64, kernel_size=(3,3), activation='relu', input_shape=X_train.shape[1:], padding='same'))\n",
    "model.add(MaxPooling2D(pool_size=(2,2)))\n",
    "model.add(Conv2D(32, kernel_size=(3,3), activation='relu', padding='same'))\n",
    "model.add(MaxPooling2D(pool_size=(2,2)))\n",
    "model.add(Conv2D(12, kernel_size=(3,3), activation='relu', padding='same'))\n",
    "model.add(MaxPooling2D(pool_size=(2,2)))\n",
    "model.add(Conv2D(8, kernel_size=(3,3), activation='relu', padding='same'))\n",
    "model.add(Flatten())\n",
    "model.add(Dense(128, activation='relu'))\n",
    "model.add(Dense(11, activation='softmax'))\n",
    "\n",
    "model.compile(loss='sparse_categorical_crossentropy',\n",
    "              optimizer='adam',\n",
    "              metrics=['accuracy'])"
   ]
  },
  {
   "cell_type": "code",
   "execution_count": 13,
   "metadata": {},
   "outputs": [
    {
     "name": "stdout",
     "output_type": "stream",
     "text": [
      "Model: \"sequential_1\"\n",
      "_________________________________________________________________\n",
      "Layer (type)                 Output Shape              Param #   \n",
      "=================================================================\n",
      "conv2d_4 (Conv2D)            (None, 100, 100, 64)      1792      \n",
      "_________________________________________________________________\n",
      "max_pooling2d_3 (MaxPooling2 (None, 50, 50, 64)        0         \n",
      "_________________________________________________________________\n",
      "conv2d_5 (Conv2D)            (None, 50, 50, 32)        18464     \n",
      "_________________________________________________________________\n",
      "max_pooling2d_4 (MaxPooling2 (None, 25, 25, 32)        0         \n",
      "_________________________________________________________________\n",
      "conv2d_6 (Conv2D)            (None, 25, 25, 12)        3468      \n",
      "_________________________________________________________________\n",
      "max_pooling2d_5 (MaxPooling2 (None, 12, 12, 12)        0         \n",
      "_________________________________________________________________\n",
      "conv2d_7 (Conv2D)            (None, 12, 12, 8)         872       \n",
      "_________________________________________________________________\n",
      "flatten_1 (Flatten)          (None, 1152)              0         \n",
      "_________________________________________________________________\n",
      "dense_2 (Dense)              (None, 128)               147584    \n",
      "_________________________________________________________________\n",
      "dense_3 (Dense)              (None, 11)                1419      \n",
      "=================================================================\n",
      "Total params: 173,599\n",
      "Trainable params: 173,599\n",
      "Non-trainable params: 0\n",
      "_________________________________________________________________\n"
     ]
    }
   ],
   "source": [
    "model.summary()"
   ]
  },
  {
   "cell_type": "markdown",
   "metadata": {},
   "source": [
    "## Train model\n",
    "Zeng et al does not discuss the size of batches used or if overfitting occured"
   ]
  },
  {
   "cell_type": "code",
   "execution_count": 27,
   "metadata": {
    "scrolled": false
   },
   "outputs": [
    {
     "name": "stdout",
     "output_type": "stream",
     "text": [
      "Train on 9900 samples, validate on 1100 samples\n",
      "Epoch 1/40\n",
      "9900/9900 [==============================] - 5s 460us/sample - loss: 5.9505 - accuracy: 0.4397 - val_loss: 0.8117 - val_accuracy: 0.6473\n",
      "Epoch 2/40\n",
      "9900/9900 [==============================] - 4s 447us/sample - loss: 0.7050 - accuracy: 0.6932 - val_loss: 0.5911 - val_accuracy: 0.7418\n",
      "Epoch 3/40\n",
      "9900/9900 [==============================] - 5s 459us/sample - loss: 0.5642 - accuracy: 0.7464 - val_loss: 0.5365 - val_accuracy: 0.7455\n",
      "Epoch 4/40\n",
      "9900/9900 [==============================] - 5s 462us/sample - loss: 0.5163 - accuracy: 0.7708 - val_loss: 0.5402 - val_accuracy: 0.7555\n",
      "Epoch 5/40\n",
      "9900/9900 [==============================] - 5s 471us/sample - loss: 0.4742 - accuracy: 0.7858 - val_loss: 0.4608 - val_accuracy: 0.7773\n",
      "Epoch 6/40\n",
      "9900/9900 [==============================] - 5s 469us/sample - loss: 0.4444 - accuracy: 0.7983 - val_loss: 0.4454 - val_accuracy: 0.7936\n",
      "Epoch 7/40\n",
      "9900/9900 [==============================] - 5s 484us/sample - loss: 0.4325 - accuracy: 0.8065 - val_loss: 0.4338 - val_accuracy: 0.7918\n",
      "Epoch 8/40\n",
      "9900/9900 [==============================] - 5s 514us/sample - loss: 0.3960 - accuracy: 0.8180 - val_loss: 0.4184 - val_accuracy: 0.8000\n",
      "Epoch 9/40\n",
      "9900/9900 [==============================] - 5s 531us/sample - loss: 0.3791 - accuracy: 0.8238 - val_loss: 0.4224 - val_accuracy: 0.8027\n",
      "Epoch 10/40\n",
      "9900/9900 [==============================] - 5s 543us/sample - loss: 0.3718 - accuracy: 0.8272 - val_loss: 0.4903 - val_accuracy: 0.7655\n",
      "Epoch 11/40\n",
      "9900/9900 [==============================] - 5s 521us/sample - loss: 0.3549 - accuracy: 0.8324 - val_loss: 0.3883 - val_accuracy: 0.8155\n",
      "Epoch 12/40\n",
      "9900/9900 [==============================] - 6s 575us/sample - loss: 0.3410 - accuracy: 0.8431 - val_loss: 0.3879 - val_accuracy: 0.8045\n",
      "Epoch 13/40\n",
      "9900/9900 [==============================] - 5s 544us/sample - loss: 0.3257 - accuracy: 0.8462 - val_loss: 0.4261 - val_accuracy: 0.7927\n",
      "Epoch 14/40\n",
      "9900/9900 [==============================] - 6s 565us/sample - loss: 0.3311 - accuracy: 0.8421 - val_loss: 0.3743 - val_accuracy: 0.8273\n",
      "Epoch 15/40\n",
      "9900/9900 [==============================] - 5s 532us/sample - loss: 0.3106 - accuracy: 0.8555 - val_loss: 0.4138 - val_accuracy: 0.7991\n",
      "Epoch 16/40\n",
      "9900/9900 [==============================] - 6s 573us/sample - loss: 0.3081 - accuracy: 0.8539 - val_loss: 0.3697 - val_accuracy: 0.8236\n",
      "Epoch 17/40\n",
      "9900/9900 [==============================] - 6s 575us/sample - loss: 0.3030 - accuracy: 0.8552 - val_loss: 0.3770 - val_accuracy: 0.8200\n",
      "Epoch 18/40\n",
      "9900/9900 [==============================] - 6s 578us/sample - loss: 0.2930 - accuracy: 0.8600 - val_loss: 0.3629 - val_accuracy: 0.8173\n",
      "Epoch 19/40\n",
      "9900/9900 [==============================] - 6s 582us/sample - loss: 0.2825 - accuracy: 0.8675 - val_loss: 0.3749 - val_accuracy: 0.8100\n",
      "Epoch 20/40\n",
      "9900/9900 [==============================] - 6s 579us/sample - loss: 0.2656 - accuracy: 0.8757 - val_loss: 0.3897 - val_accuracy: 0.8055\n",
      "Epoch 21/40\n",
      "9900/9900 [==============================] - 6s 578us/sample - loss: 0.2663 - accuracy: 0.8703 - val_loss: 0.3872 - val_accuracy: 0.8145\n",
      "Epoch 22/40\n",
      "9900/9900 [==============================] - 6s 637us/sample - loss: 0.2683 - accuracy: 0.8711 - val_loss: 0.3679 - val_accuracy: 0.8191\n",
      "Epoch 23/40\n",
      "9900/9900 [==============================] - 6s 599us/sample - loss: 0.2521 - accuracy: 0.8824 - val_loss: 0.3725 - val_accuracy: 0.8273\n",
      "Epoch 24/40\n",
      "9900/9900 [==============================] - 6s 610us/sample - loss: 0.2558 - accuracy: 0.8765 - val_loss: 0.4063 - val_accuracy: 0.8082\n",
      "Epoch 25/40\n",
      "9900/9900 [==============================] - 6s 608us/sample - loss: 0.2428 - accuracy: 0.8817 - val_loss: 0.3496 - val_accuracy: 0.8355\n",
      "Epoch 26/40\n",
      "9900/9900 [==============================] - 7s 707us/sample - loss: 0.2467 - accuracy: 0.8757 - val_loss: 0.3852 - val_accuracy: 0.8173\n",
      "Epoch 27/40\n",
      "9900/9900 [==============================] - 7s 669us/sample - loss: 0.2330 - accuracy: 0.8865 - val_loss: 0.3448 - val_accuracy: 0.8364\n",
      "Epoch 28/40\n",
      "9900/9900 [==============================] - 6s 631us/sample - loss: 0.2224 - accuracy: 0.8974 - val_loss: 0.3747 - val_accuracy: 0.8173\n",
      "Epoch 29/40\n",
      "9900/9900 [==============================] - 6s 639us/sample - loss: 0.2260 - accuracy: 0.8903 - val_loss: 0.3530 - val_accuracy: 0.8318\n",
      "Epoch 30/40\n",
      "9900/9900 [==============================] - 6s 629us/sample - loss: 0.2203 - accuracy: 0.8949 - val_loss: 0.3730 - val_accuracy: 0.8218\n",
      "Epoch 31/40\n",
      "9900/9900 [==============================] - 6s 632us/sample - loss: 0.2117 - accuracy: 0.9000 - val_loss: 0.3901 - val_accuracy: 0.8200\n",
      "Epoch 32/40\n",
      "9900/9900 [==============================] - 6s 628us/sample - loss: 0.2134 - accuracy: 0.8959 - val_loss: 0.3664 - val_accuracy: 0.8355\n",
      "Epoch 33/40\n",
      "9900/9900 [==============================] - 6s 632us/sample - loss: 0.2075 - accuracy: 0.9012 - val_loss: 0.3572 - val_accuracy: 0.8364\n",
      "Epoch 34/40\n",
      "9900/9900 [==============================] - 6s 651us/sample - loss: 0.1990 - accuracy: 0.9040 - val_loss: 0.3666 - val_accuracy: 0.8282\n",
      "Epoch 35/40\n",
      "9900/9900 [==============================] - 6s 643us/sample - loss: 0.1889 - accuracy: 0.9114 - val_loss: 0.3543 - val_accuracy: 0.8418\n",
      "Epoch 36/40\n",
      "9900/9900 [==============================] - 6s 644us/sample - loss: 0.1915 - accuracy: 0.9115 - val_loss: 0.4068 - val_accuracy: 0.8236\n",
      "Epoch 37/40\n",
      "9900/9900 [==============================] - 6s 639us/sample - loss: 0.1901 - accuracy: 0.9114 - val_loss: 0.3666 - val_accuracy: 0.8418\n",
      "Epoch 38/40\n",
      "9900/9900 [==============================] - 6s 646us/sample - loss: 0.1808 - accuracy: 0.9146 - val_loss: 0.3654 - val_accuracy: 0.8400\n",
      "Epoch 39/40\n",
      "9900/9900 [==============================] - 6s 647us/sample - loss: 0.1699 - accuracy: 0.9219 - val_loss: 0.4180 - val_accuracy: 0.8236\n",
      "Epoch 40/40\n",
      "9900/9900 [==============================] - 6s 644us/sample - loss: 0.1638 - accuracy: 0.9239 - val_loss: 0.4034 - val_accuracy: 0.8300\n"
     ]
    }
   ],
   "source": [
    "history_SCNN2 = model.fit(X_train, y_train, batch_size=128, epochs=40, validation_split=0.1, verbose=1)"
   ]
  },
  {
   "cell_type": "markdown",
   "metadata": {},
   "source": [
    "## View training stats"
   ]
  },
  {
   "cell_type": "markdown",
   "metadata": {},
   "source": [
    "The following cell shows training of dataset using 18 dBm SNR only and the SCNN methodology on 3 channels of data (mag, phase, angle).\n",
    "\n",
    " - Model was trained for 40 epochs (~45s per epoch training time)\n",
    " - Batch size = 128\n",
    " - Train/test split of 0.1 was used\n",
    " - Of the training data, a 0.1 validation split was used.\n",
    " \n",
    "The dataset has 11,0000 examples (1,000 of each modulation technique and SNR)."
   ]
  },
  {
   "cell_type": "code",
   "execution_count": 17,
   "metadata": {},
   "outputs": [
    {
     "data": {
      "image/png": "[encoded data removed]",
      "text/plain": [
       "<Figure size 720x360 with 1 Axes>"
      ]
     },
     "metadata": {
      "needs_background": "light"
     },
     "output_type": "display_data"
    }
   ],
   "source": [
    "plt.plot(history_SCNN2.history['accuracy'])\n",
    "plt.plot(history_SCNN2.history['val_accuracy'])\n",
    "plt.title('Model accuracy')\n",
    "plt.ylabel('Accuracy')\n",
    "plt.xlabel('Epoch')\n",
    "plt.ylim(0,1)\n",
    "plt.legend(['Train', 'Test'], loc='upper left')c\n",
    "plt.show()"
   ]
  },
  {
   "cell_type": "markdown",
   "metadata": {},
   "source": [
    "The following cell shows training of dataset consisting of 2 dBm SNR only and the SCNN methodology on 3 channels of data (mag, phase, angle). The model was pretrained on 18 dBm SNR dataset for 40 epochs.\n",
    "\n",
    " - Model was trained for 40 epochs (~4s per epoch training time)\n",
    " - Batch size = 128\n",
    " - No test set was used\n",
    " - Trainig data was split with validation split of 0.1\n",
    "\n",
    "Dataset consits of 11,000 total examples with 1,000 examples of each modulation technique."
   ]
  },
  {
   "cell_type": "code",
   "execution_count": 23,
   "metadata": {},
   "outputs": [
    {
     "data": {
      "image/png": "[encoded data removed]",
      "text/plain": [
       "<Figure size 720x360 with 1 Axes>"
      ]
     },
     "metadata": {
      "needs_background": "light"
     },
     "output_type": "display_data"
    }
   ],
   "source": [
    "plt.plot(history_SCNN2.history['accuracy'])\n",
    "plt.plot(history_SCNN2.history['val_accuracy'])\n",
    "plt.title('Model accuracy')\n",
    "plt.ylabel('Accuracy')\n",
    "plt.xlabel('Epoch')\n",
    "plt.ylim(0,1)\n",
    "plt.legend(['Train', 'Test'], loc='upper left')\n",
    "plt.show()"
   ]
  },
  {
   "cell_type": "markdown",
   "metadata": {},
   "source": [
    "The following cell shows training of dataset using 18 dBm SNR only and the SCNN methodology on 3 channels of data (mag, phase, angle). The model was pretrained on 18 dBm SNR dataset for 40 epochs and 2 dBm SNR dataset for 40 epochs.\n",
    "\n",
    " - Model was trained for 40 epochs (~45s per epoch training time)\n",
    " - Batch size = 128\n",
    " - Train/test split of 0.1 was used\n",
    " - Of the training data, a 0.1 validation split was used.\n",
    " \n",
    "The dataset has 11,0000 examples (1,000 of each modulation technique and SNR)."
   ]
  },
  {
   "cell_type": "code",
   "execution_count": 29,
   "metadata": {},
   "outputs": [
    {
     "data": {
      "image/png": "[encoded data removed]",
      "text/plain": [
       "<Figure size 720x360 with 1 Axes>"
      ]
     },
     "metadata": {
      "needs_background": "light"
     },
     "output_type": "display_data"
    }
   ],
   "source": [
    "plt.plot(history_SCNN2.history['accuracy'])\n",
    "plt.plot(history_SCNN2.history['val_accuracy'])\n",
    "plt.title('Model accuracy')\n",
    "plt.ylabel('Accuracy')\n",
    "plt.xlabel('Epoch')\n",
    "plt.ylim(0,1)\n",
    "plt.legend(['Train', 'Test'], loc='upper left')\n",
    "plt.show()"
   ]
  },
  {
   "cell_type": "markdown",
   "metadata": {},
   "source": [
    "## Evaluate model\n",
    "TODO: this uses the training data as no seperate test data was set aside. There was discussion online about this, need to look into if further."
   ]
  },
  {
   "cell_type": "code",
   "execution_count": null,
   "metadata": {},
   "outputs": [],
   "source": [
    "loss, accuracy = model.evaluate(X_test, y_test, verbose=0, batch_size=128)\n",
    "print(\"Loss:\\t\\t{}\\nAccuracy:\\t{}\".format(loss, accuracy))"
   ]
  },
  {
   "cell_type": "markdown",
   "metadata": {},
   "source": [
    "## Save model"
   ]
  },
  {
   "cell_type": "code",
   "execution_count": null,
   "metadata": {},
   "outputs": [],
   "source": [
    "model.save('SCNN2_0_18.model')"
   ]
  },
  {
   "cell_type": "markdown",
   "metadata": {},
   "source": [
    "## Load model"
   ]
  },
  {
   "cell_type": "code",
   "execution_count": null,
   "metadata": {},
   "outputs": [],
   "source": [
    "model = tf.keras.models.load_model('SCNN_0_18.model')"
   ]
  },
  {
   "cell_type": "code",
   "execution_count": null,
   "metadata": {},
   "outputs": [],
   "source": [
    "model.summary()"
   ]
  }
 ],
 "metadata": {
  "kernelspec": {
   "display_name": "Python 3",
   "language": "python",
   "name": "python3"
  },
  "language_info": {
   "codemirror_mode": {
    "name": "ipython",
    "version": 3
   },
   "file_extension": ".py",
   "mimetype": "text/x-python",
   "name": "python",
   "nbconvert_exporter": "python",
   "pygments_lexer": "ipython3",
   "version": "3.6.8"
  }
 },
 "nbformat": 4,
 "nbformat_minor": 2
}
