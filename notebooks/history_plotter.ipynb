{
 "cells": [
  {
   "cell_type": "code",
   "execution_count": 2,
   "metadata": {},
   "outputs": [],
   "source": [
    "import os\n",
    "import pandas as pd\n",
    "import matplotlib.pyplot as plt\n",
    "import numpy as np"
   ]
  },
  {
   "cell_type": "code",
   "execution_count": 3,
   "metadata": {},
   "outputs": [],
   "source": [
    "# jupyter notebook specific commands\n",
    "%matplotlib inline\n",
    "plt.rcParams['figure.figsize'] = [10, 5]"
   ]
  },
  {
   "cell_type": "code",
   "execution_count": 4,
   "metadata": {},
   "outputs": [],
   "source": [
    "directory = '../csv/'\n",
    "files = os.listdir(directory)"
   ]
  },
  {
   "cell_type": "code",
   "execution_count": null,
   "metadata": {},
   "outputs": [],
   "source": [
    "for file in files"
   ]
  },
  {
   "cell_type": "code",
   "execution_count": 5,
   "metadata": {},
   "outputs": [],
   "source": [
    "df = pd.DataFrame()"
   ]
  },
  {
   "cell_type": "code",
   "execution_count": 6,
   "metadata": {},
   "outputs": [
    {
     "name": "stdout",
     "output_type": "stream",
     "text": [
      "-20\n",
      "-18\n",
      "-16\n",
      "-14\n",
      "-12\n",
      "-10\n",
      "-8\n",
      "-6\n",
      "-4\n",
      "-2\n",
      "0\n",
      "2\n",
      "4\n",
      "6\n",
      "8\n",
      "10\n",
      "12\n",
      "14\n",
      "16\n",
      "18\n"
     ]
    }
   ],
   "source": [
    "_ = [print(i) for i in range(-20, 20, 2)]"
   ]
  },
  {
   "cell_type": "code",
   "execution_count": 7,
   "metadata": {
    "scrolled": true
   },
   "outputs": [
    {
     "data": {
      "text/plain": [
       "['m_pu_8.csv',\n",
       " 'm_8.csv',\n",
       " 'm_-8.csv',\n",
       " 'm_pu_-18.csv',\n",
       " 'm_16.csv',\n",
       " 'm_p_-2.csv',\n",
       " 'm_p_10.csv',\n",
       " 'm_p_-12.csv',\n",
       " 'm_pu_-20.csv',\n",
       " 'i_q_-20.csv',\n",
       " 'm_pu_14.csv',\n",
       " 'i_q_-10.csv',\n",
       " 'm_p_-10.csv',\n",
       " 'm_pu_12.csv',\n",
       " 'm_12.csv',\n",
       " 'm_-20.csv',\n",
       " 'm_pu_-8.csv',\n",
       " 'm_p_16.csv',\n",
       " 'm_p_0.csv',\n",
       " 'm_14.csv',\n",
       " 'i_q_-4.csv',\n",
       " 'm_pu_10.csv',\n",
       " 'm_p_18.csv',\n",
       " 'm_p_-20.csv',\n",
       " 'm_-14.csv',\n",
       " 'm_pu_2.csv',\n",
       " 'm_pu_-6.csv',\n",
       " 'i_q_10.csv',\n",
       " 'i_q_0.csv',\n",
       " 'i_q_-16.csv',\n",
       " 'm_p_12.csv',\n",
       " 'm_-18.csv',\n",
       " 'i_q_-18.csv',\n",
       " 'm_pu_-10.csv',\n",
       " 'm_0.csv',\n",
       " 'm_pu_-14.csv',\n",
       " 'm_-4.csv',\n",
       " 'i_q_-2.csv',\n",
       " 'i_q_4.csv',\n",
       " 'm_p_4.csv',\n",
       " 'm_p_-6.csv',\n",
       " 'i_q_18.csv',\n",
       " 'm_p_14.csv',\n",
       " 'i_q_-6.csv',\n",
       " 'i_q_16.csv',\n",
       " 'm_18.csv',\n",
       " 'i_q_14.csv',\n",
       " 'm_p_-4.csv',\n",
       " 'm_-6.csv',\n",
       " 'm_p_2.csv',\n",
       " 'm_pu_4.csv',\n",
       " 'm_pu_-12.csv',\n",
       " 'i_q_2.csv',\n",
       " 'i_q_-14.csv',\n",
       " 'm_pu_-2.csv',\n",
       " 'm_-10.csv',\n",
       " 'm_2.csv',\n",
       " 'i_q_-8.csv',\n",
       " 'm_pu_16.csv',\n",
       " 'm_pu_6.csv',\n",
       " 'i_q_12.csv',\n",
       " 'm_pu_-4.csv',\n",
       " 'm_pu_0.csv',\n",
       " 'm_4.csv',\n",
       " 'i_q_-12.csv',\n",
       " 'm_p_8.csv',\n",
       " 'm_p_6.csv',\n",
       " 'm_p_-16.csv',\n",
       " 'm_p_-18.csv',\n",
       " 'm_-2.csv',\n",
       " 'm_pu_-16.csv',\n",
       " 'i_q_6.csv',\n",
       " 'm_-16.csv',\n",
       " 'm_6.csv',\n",
       " 'i_q_8.csv',\n",
       " 'm_pu_18.csv',\n",
       " 'm_p_-14.csv',\n",
       " 'm_10.csv',\n",
       " 'm_p_-8.csv',\n",
       " 'm_-12.csv']"
      ]
     },
     "execution_count": 7,
     "metadata": {},
     "output_type": "execute_result"
    }
   ],
   "source": [
    "files"
   ]
  },
  {
   "cell_type": "code",
   "execution_count": 8,
   "metadata": {
    "scrolled": true
   },
   "outputs": [
    {
     "name": "stdout",
     "output_type": "stream",
     "text": [
      "[('m',), (-6,)]\n",
      "[('m_p',), (6,)]\n",
      "[('m_p',), (0,)]\n",
      "[('i_q',), (8,)]\n",
      "[('m_pu',), (-10,)]\n",
      "[('i_q',), (-8,)]\n",
      "[('m',), (14,)]\n",
      "[('m_pu',), (4,)]\n",
      "[('m_pu',), (6,)]\n",
      "[('m_pu',), (-8,)]\n",
      "[('m_pu',), (18,)]\n",
      "[('m_p',), (16,)]\n",
      "[('i_q',), (6,)]\n",
      "[('i_q',), (10,)]\n",
      "[('m',), (10,)]\n",
      "[('m',), (-2,)]\n",
      "[('i_q',), (12,)]\n",
      "[('i_q',), (0,)]\n",
      "[('m_pu',), (10,)]\n",
      "[('m',), (6,)]\n",
      "[('m_p',), (-4,)]\n",
      "[('m_pu',), (2,)]\n",
      "[('m',), (4,)]\n",
      "[('i_q',), (16,)]\n",
      "[('i_q',), (18,)]\n",
      "[('m',), (-16,)]\n",
      "[('m',), (2,)]\n",
      "[('m',), (0,)]\n",
      "[('m_p',), (-6,)]\n",
      "[('i_q',), (-16,)]\n",
      "[('m_pu',), (8,)]\n",
      "[('m',), (8,)]\n",
      "[('m',), (-14,)]\n",
      "[('i_q',), (4,)]\n",
      "[('m',), (-18,)]\n",
      "[('m_p',), (12,)]\n",
      "[('m_pu',), (-16,)]\n",
      "[('i_q',), (-14,)]\n",
      "[('m',), (-4,)]\n",
      "[('m',), (-12,)]\n",
      "[('i_q',), (14,)]\n",
      "[('m_p',), (-20,)]\n",
      "[('m_pu',), (-12,)]\n",
      "[('m_p',), (4,)]\n",
      "[('m_p',), (18,)]\n",
      "[('m_pu',), (-20,)]\n",
      "[('i_q',), (-18,)]\n",
      "[('m',), (-8,)]\n",
      "[('m_pu',), (-4,)]\n",
      "[('m_pu',), (0,)]\n",
      "[('m_p',), (10,)]\n",
      "[('m_p',), (-8,)]\n",
      "[('i_q',), (2,)]\n",
      "[('m_pu',), (-18,)]\n",
      "[('m_p',), (-16,)]\n",
      "[('m_p',), (-2,)]\n",
      "[('m_pu',), (-6,)]\n",
      "[('m_p',), (-10,)]\n",
      "[('m_p',), (2,)]\n",
      "[('m',), (-10,)]\n",
      "[('m_pu',), (-14,)]\n",
      "[('i_q',), (-6,)]\n",
      "[('i_q',), (-12,)]\n",
      "[('m',), (16,)]\n",
      "[('m',), (-20,)]\n",
      "[('m_pu',), (14,)]\n",
      "[('m_pu',), (16,)]\n",
      "[('m_p',), (14,)]\n",
      "[('m_pu',), (12,)]\n",
      "[('i_q',), (-4,)]\n",
      "[('i_q',), (-10,)]\n",
      "[('m',), (12,)]\n",
      "[('m_p',), (8,)]\n",
      "[('i_q',), (-2,)]\n",
      "[('m_p',), (-18,)]\n",
      "[('m_p',), (-14,)]\n",
      "[('m_pu',), (-2,)]\n",
      "[('m',), (18,)]\n",
      "[('i_q',), (-20,)]\n",
      "[('m_p',), (-12,)]\n"
     ]
    }
   ],
   "source": [
    "for file in files:  \n",
    "    idx = file[:-4]\n",
    "    idx = idx.rsplit('_', 1)\n",
    "    idx[1] = int(idx[1])\n",
    "    idx = list(zip(idx))\n",
    "    \n",
    "    print(idx)"
   ]
  },
  {
   "cell_type": "code",
   "execution_count": 27,
   "metadata": {},
   "outputs": [
    {
     "data": {
      "image/png": "[encoded data removed]",
      "text/plain": [
       "<Figure size 720x360 with 1 Axes>"
      ]
     },
     "metadata": {
      "needs_background": "light"
     },
     "output_type": "display_data"
    }
   ],
   "source": [
    "for file in files:  \n",
    "    if 'i_q' in file:\n",
    "        if '-' not in file:\n",
    "            df = pd.read_csv(f'{directory}{file}')\n",
    "            df['val_acc'].plot()\n",
    "#     df['acc'].plot()"
   ]
  },
  {
   "cell_type": "code",
   "execution_count": null,
   "metadata": {},
   "outputs": [],
   "source": []
  }
 ],
 "metadata": {
  "kernelspec": {
   "display_name": "Python 3",
   "language": "python",
   "name": "python3"
  },
  "language_info": {
   "codemirror_mode": {
    "name": "ipython",
    "version": 3
   },
   "file_extension": ".py",
   "mimetype": "text/x-python",
   "name": "python",
   "nbconvert_exporter": "python",
   "pygments_lexer": "ipython3",
   "version": "3.6.9"
  }
 },
 "nbformat": 4,
 "nbformat_minor": 4
}
