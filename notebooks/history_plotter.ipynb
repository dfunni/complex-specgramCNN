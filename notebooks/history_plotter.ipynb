{
 "cells": [
  {
   "cell_type": "code",
   "execution_count": 1,
   "metadata": {},
   "outputs": [],
   "source": [
    "import os\n",
    "import pandas as pd\n",
    "import matplotlib.pyplot as plt\n",
    "import numpy as np"
   ]
  },
  {
   "cell_type": "code",
   "execution_count": 2,
   "metadata": {},
   "outputs": [],
   "source": [
    "# jupyter notebook specific commands\n",
    "%matplotlib inline\n",
    "plt.rcParams['figure.figsize'] = [15, 8]"
   ]
  },
  {
   "cell_type": "code",
   "execution_count": 3,
   "metadata": {},
   "outputs": [],
   "source": [
    "directory = '../csvs/'\n",
    "os.chdir(directory)\n",
    "files = os.listdir(directory)"
   ]
  },
  {
   "cell_type": "code",
   "execution_count": 4,
   "metadata": {},
   "outputs": [],
   "source": [
    "chans = []\n",
    "snrs = []\n",
    "# snrs = np.zeros(len(files))\n",
    "for i, file in enumerate(files):\n",
    "    fn = file[:-4]\n",
    "    fn = fn.rsplit('_', 1)\n",
    "    chans.append(fn[0])\n",
    "    snrs.append(fn[1])\n",
    "    \n",
    "chans = np.unique(chans).tolist()\n",
    "snrs = np.unique(snrs).tolist()"
   ]
  },
  {
   "cell_type": "code",
   "execution_count": 5,
   "metadata": {},
   "outputs": [
    {
     "data": {
      "text/plain": [
       "['blur_m', 'blur_mp', 'iq', 'iqmpu', 'm', 'mp', 'mu']"
      ]
     },
     "execution_count": 5,
     "metadata": {},
     "output_type": "execute_result"
    }
   ],
   "source": [
    "chans"
   ]
  },
  {
   "cell_type": "code",
   "execution_count": 6,
   "metadata": {},
   "outputs": [
    {
     "data": {
      "text/plain": [
       "['-10',\n",
       " '-12',\n",
       " '-14',\n",
       " '-16',\n",
       " '-18',\n",
       " '-2',\n",
       " '-20',\n",
       " '-4',\n",
       " '-6',\n",
       " '-8',\n",
       " '0',\n",
       " '10',\n",
       " '12',\n",
       " '14',\n",
       " '16',\n",
       " '18',\n",
       " '2',\n",
       " '4',\n",
       " '6',\n",
       " '8']"
      ]
     },
     "execution_count": 6,
     "metadata": {},
     "output_type": "execute_result"
    }
   ],
   "source": [
    "snrs"
   ]
  },
  {
   "cell_type": "code",
   "execution_count": 7,
   "metadata": {},
   "outputs": [],
   "source": [
    "iterables = [chans, snrs]\n",
    "index = pd.MultiIndex.from_product(iterables, names=['ch', 'snr'])"
   ]
  },
  {
   "cell_type": "code",
   "execution_count": 8,
   "metadata": {
    "scrolled": true
   },
   "outputs": [],
   "source": [
    "df = pd.DataFrame()\n",
    "for file in files:\n",
    "    tmp = pd.DataFrame()\n",
    "    fn = file[:-4]\n",
    "    chan, snr = fn.rsplit('_', 1)\n",
    "    tmp = pd.read_csv(f'{directory}{file}')\n",
    "\n",
    "\n",
    "    tmp['chan'] = chan\n",
    "    tmp['snr'] = float(snr)\n",
    "    df = df.append(tmp, ignore_index=True)"
   ]
  },
  {
   "cell_type": "code",
   "execution_count": 9,
   "metadata": {},
   "outputs": [
    {
     "data": {
      "text/html": [
       "<div>\n",
       "<style scoped>\n",
       "    .dataframe tbody tr th:only-of-type {\n",
       "        vertical-align: middle;\n",
       "    }\n",
       "\n",
       "    .dataframe tbody tr th {\n",
       "        vertical-align: top;\n",
       "    }\n",
       "\n",
       "    .dataframe thead th {\n",
       "        text-align: right;\n",
       "    }\n",
       "</style>\n",
       "<table border=\"1\" class=\"dataframe\">\n",
       "  <thead>\n",
       "    <tr style=\"text-align: right;\">\n",
       "      <th></th>\n",
       "      <th>epoch</th>\n",
       "      <th>acc</th>\n",
       "      <th>loss</th>\n",
       "      <th>val_acc</th>\n",
       "      <th>val_loss</th>\n",
       "      <th>chan</th>\n",
       "      <th>snr</th>\n",
       "    </tr>\n",
       "  </thead>\n",
       "  <tbody>\n",
       "    <tr>\n",
       "      <th>0</th>\n",
       "      <td>0</td>\n",
       "      <td>0.543636</td>\n",
       "      <td>1.091037</td>\n",
       "      <td>0.679091</td>\n",
       "      <td>0.743601</td>\n",
       "      <td>blur_mp</td>\n",
       "      <td>4.0</td>\n",
       "    </tr>\n",
       "    <tr>\n",
       "      <th>1</th>\n",
       "      <td>1</td>\n",
       "      <td>0.680455</td>\n",
       "      <td>0.738013</td>\n",
       "      <td>0.716364</td>\n",
       "      <td>0.630609</td>\n",
       "      <td>blur_mp</td>\n",
       "      <td>4.0</td>\n",
       "    </tr>\n",
       "    <tr>\n",
       "      <th>2</th>\n",
       "      <td>2</td>\n",
       "      <td>0.713409</td>\n",
       "      <td>0.643507</td>\n",
       "      <td>0.750000</td>\n",
       "      <td>0.554521</td>\n",
       "      <td>blur_mp</td>\n",
       "      <td>4.0</td>\n",
       "    </tr>\n",
       "    <tr>\n",
       "      <th>3</th>\n",
       "      <td>3</td>\n",
       "      <td>0.757955</td>\n",
       "      <td>0.549081</td>\n",
       "      <td>0.756818</td>\n",
       "      <td>0.540814</td>\n",
       "      <td>blur_mp</td>\n",
       "      <td>4.0</td>\n",
       "    </tr>\n",
       "    <tr>\n",
       "      <th>4</th>\n",
       "      <td>4</td>\n",
       "      <td>0.788977</td>\n",
       "      <td>0.457547</td>\n",
       "      <td>0.779545</td>\n",
       "      <td>0.442544</td>\n",
       "      <td>blur_mp</td>\n",
       "      <td>4.0</td>\n",
       "    </tr>\n",
       "    <tr>\n",
       "      <th>...</th>\n",
       "      <td>...</td>\n",
       "      <td>...</td>\n",
       "      <td>...</td>\n",
       "      <td>...</td>\n",
       "      <td>...</td>\n",
       "      <td>...</td>\n",
       "      <td>...</td>\n",
       "    </tr>\n",
       "    <tr>\n",
       "      <th>3495</th>\n",
       "      <td>20</td>\n",
       "      <td>0.906932</td>\n",
       "      <td>0.256365</td>\n",
       "      <td>0.441364</td>\n",
       "      <td>3.211272</td>\n",
       "      <td>blur_m</td>\n",
       "      <td>-6.0</td>\n",
       "    </tr>\n",
       "    <tr>\n",
       "      <th>3496</th>\n",
       "      <td>21</td>\n",
       "      <td>0.916591</td>\n",
       "      <td>0.258233</td>\n",
       "      <td>0.407273</td>\n",
       "      <td>3.298290</td>\n",
       "      <td>blur_m</td>\n",
       "      <td>-6.0</td>\n",
       "    </tr>\n",
       "    <tr>\n",
       "      <th>3497</th>\n",
       "      <td>22</td>\n",
       "      <td>0.948182</td>\n",
       "      <td>0.160688</td>\n",
       "      <td>0.445455</td>\n",
       "      <td>3.746378</td>\n",
       "      <td>blur_m</td>\n",
       "      <td>-6.0</td>\n",
       "    </tr>\n",
       "    <tr>\n",
       "      <th>3498</th>\n",
       "      <td>23</td>\n",
       "      <td>0.965341</td>\n",
       "      <td>0.106614</td>\n",
       "      <td>0.452727</td>\n",
       "      <td>4.454423</td>\n",
       "      <td>blur_m</td>\n",
       "      <td>-6.0</td>\n",
       "    </tr>\n",
       "    <tr>\n",
       "      <th>3499</th>\n",
       "      <td>24</td>\n",
       "      <td>0.944432</td>\n",
       "      <td>0.171135</td>\n",
       "      <td>0.442727</td>\n",
       "      <td>4.309222</td>\n",
       "      <td>blur_m</td>\n",
       "      <td>-6.0</td>\n",
       "    </tr>\n",
       "  </tbody>\n",
       "</table>\n",
       "<p>3500 rows × 7 columns</p>\n",
       "</div>"
      ],
      "text/plain": [
       "      epoch       acc      loss   val_acc  val_loss     chan  snr\n",
       "0         0  0.543636  1.091037  0.679091  0.743601  blur_mp  4.0\n",
       "1         1  0.680455  0.738013  0.716364  0.630609  blur_mp  4.0\n",
       "2         2  0.713409  0.643507  0.750000  0.554521  blur_mp  4.0\n",
       "3         3  0.757955  0.549081  0.756818  0.540814  blur_mp  4.0\n",
       "4         4  0.788977  0.457547  0.779545  0.442544  blur_mp  4.0\n",
       "...     ...       ...       ...       ...       ...      ...  ...\n",
       "3495     20  0.906932  0.256365  0.441364  3.211272   blur_m -6.0\n",
       "3496     21  0.916591  0.258233  0.407273  3.298290   blur_m -6.0\n",
       "3497     22  0.948182  0.160688  0.445455  3.746378   blur_m -6.0\n",
       "3498     23  0.965341  0.106614  0.452727  4.454423   blur_m -6.0\n",
       "3499     24  0.944432  0.171135  0.442727  4.309222   blur_m -6.0\n",
       "\n",
       "[3500 rows x 7 columns]"
      ]
     },
     "execution_count": 9,
     "metadata": {},
     "output_type": "execute_result"
    }
   ],
   "source": [
    "df"
   ]
  },
  {
   "cell_type": "code",
   "execution_count": null,
   "metadata": {},
   "outputs": [],
   "source": []
  },
  {
   "cell_type": "code",
   "execution_count": 10,
   "metadata": {},
   "outputs": [
    {
     "data": {
      "image/png": "[encoded data removed]",
      "text/plain": [
       "<Figure size 1080x576 with 1 Axes>"
      ]
     },
     "metadata": {
      "needs_background": "light"
     },
     "output_type": "display_data"
    }
   ],
   "source": [
    "mu = df.loc[df['chan'] == 'mu']\n",
    "smu = mu.loc[mu['epoch'] == 24]\n",
    "plt.scatter(smu['snr'], smu['val_acc'])\n",
    "plt.ylim([0,1])\n",
    "plt.show()"
   ]
  },
  {
   "cell_type": "code",
   "execution_count": 18,
   "metadata": {},
   "outputs": [
    {
     "data": {
      "image/png": "[encoded data removed]",
      "text/plain": [
       "<Figure size 1080x576 with 1 Axes>"
      ]
     },
     "metadata": {
      "needs_background": "light"
     },
     "output_type": "display_data"
    }
   ],
   "source": [
    "for chan in chans[2:]:\n",
    "    ch = df.loc[df['chan'] == chan]\n",
    "    ep = ch.loc[ch['epoch'] == 24]\n",
    "    plt.scatter(ep['snr'], ep['val_acc'], label=chan)\n",
    "    \n",
    "plt.legend()\n",
    "plt.xlabel('SNR')\n",
    "plt.ylabel('Validation Accuracy')\n",
    "plt.title(\"Results of epoch 25\")\n",
    "plt.ylim([0, 1])\n",
    "plt.show()    "
   ]
  },
  {
   "cell_type": "code",
   "execution_count": null,
   "metadata": {},
   "outputs": [],
   "source": [
    "for chan in chans:\n",
    "    ch = df.loc[df['chan'] == chan]\n",
    "    ep = ch.loc[ch['epoch'] == 24]\n",
    "    plt.scatter(ep['snr'], ep['val_acc'], label=chan)\n",
    "    \n",
    "plt.legend()    \n",
    "plt.ylim([0, 1])\n",
    "plt.show()    "
   ]
  },
  {
   "cell_type": "code",
   "execution_count": 68,
   "metadata": {},
   "outputs": [
    {
     "data": {
      "image/png": "[encoded data removed]",
      "text/plain": [
       "<Figure size 1080x576 with 1 Axes>"
      ]
     },
     "metadata": {
      "needs_background": "light"
     },
     "output_type": "display_data"
    }
   ],
   "source": [
    "ch1 = 'mp'\n",
    "ch2 = 'm'\n",
    "\n",
    "df1 = df.loc[df['chan'] == ch1]\n",
    "df2 = df.loc[df['chan'] == ch2]\n",
    "\n",
    "for snr in snrs:\n",
    "    df1_snr = df1.loc[df1['snr'] == int(snr)]\n",
    "    df2_snr = df2.loc[df2['snr'] == int(snr)]\n",
    "    plt.scatter(int(snr), df1_snr['val_acc'].max(), color='C0')\n",
    "    plt.scatter(int(snr), df2_snr['val_acc'].max(), color='C1')\n",
    "    \n",
    "    \n",
    "plt.legend([ch1, ch2])\n",
    "plt.ylim([0, 1])\n",
    "plt.show()\n"
   ]
  },
  {
   "cell_type": "code",
   "execution_count": 83,
   "metadata": {},
   "outputs": [
    {
     "data": {
      "image/png": "[encoded data removed]",
      "text/plain": [
       "<Figure size 1080x576 with 1 Axes>"
      ]
     },
     "metadata": {
      "needs_background": "light"
     },
     "output_type": "display_data"
    }
   ],
   "source": [
    "ch1 = 'blur_mp'\n",
    "ch2 = 'mp'\n",
    "\n",
    "df1 = df.loc[df['chan'] == ch1]\n",
    "df2 = df.loc[df['chan'] == ch2]\n",
    "\n",
    "for snr in snrs:\n",
    "    df1_snr = df1.loc[df1['snr'] == int(snr)]\n",
    "    df2_snr = df2.loc[df2['snr'] == int(snr)]\n",
    "    plt.scatter(int(snr), df1_snr['val_acc'].max(), color='C0')\n",
    "    plt.scatter(int(snr), df2_snr['val_acc'].max(), color='C1')\n",
    "    \n",
    "    \n",
    "plt.legend([ch1, ch2])\n",
    "plt.ylim([0, 1])\n",
    "plt.show()\n"
   ]
  },
  {
   "cell_type": "code",
   "execution_count": null,
   "metadata": {},
   "outputs": [],
   "source": []
  }
 ],
 "metadata": {
  "kernelspec": {
   "display_name": "Python 3",
   "language": "python",
   "name": "python3"
  },
  "language_info": {
   "codemirror_mode": {
    "name": "ipython",
    "version": 3
   },
   "file_extension": ".py",
   "mimetype": "text/x-python",
   "name": "python",
   "nbconvert_exporter": "python",
   "pygments_lexer": "ipython3",
   "version": "3.6.9"
  }
 },
 "nbformat": 4,
 "nbformat_minor": 4
}
